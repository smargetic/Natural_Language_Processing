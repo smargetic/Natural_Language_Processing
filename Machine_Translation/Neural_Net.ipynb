{
  "nbformat": 4,
  "nbformat_minor": 0,
  "metadata": {
    "colab": {
      "provenance": [],
      "authorship_tag": "ABX9TyMBOm4x8rCCfNJDsMdqz9aB",
      "include_colab_link": true
    },
    "kernelspec": {
      "name": "python3",
      "display_name": "Python 3"
    },
    "language_info": {
      "name": "python"
    }
  },
  "cells": [
    {
      "cell_type": "markdown",
      "metadata": {
        "id": "view-in-github",
        "colab_type": "text"
      },
      "source": [
        "<a href=\"https://colab.research.google.com/github/smargetic/Natural_Language_Processing/blob/main/Machine_Translation/Neural_Net.ipynb\" target=\"_parent\"><img src=\"https://colab.research.google.com/assets/colab-badge.svg\" alt=\"Open In Colab\"/></a>"
      ]
    },
    {
      "cell_type": "code",
      "execution_count": null,
      "metadata": {
        "id": "E38McwRXbyKA"
      },
      "outputs": [],
      "source": [
        "#pytorch\n",
        "import torch\n",
        "import torch.nn as nn"
      ]
    },
    {
      "cell_type": "code",
      "source": [
        "class Embedding_Node(nn.Module):\n",
        "  def __init__(self, vocab_size, embedding_dim):\n",
        "    super(Embedding_Node, self).__init__()\n",
        "\n",
        "    self.W_e = nn.Parameter(torch.randn(vocab_size, embedding_dim))\n",
        "\n",
        "  def forward(self, x):\n",
        "    return self.W_e[x]"
      ],
      "metadata": {
        "id": "FuiybsIls7m1"
      },
      "execution_count": null,
      "outputs": []
    },
    {
      "cell_type": "code",
      "source": [
        "class RNN_Node(nn.Module):\n",
        "  def __init__(self, hidden_dim):\n",
        "    super(RNN_Node, self).__init__()\n",
        "\n",
        "    #all parameters that go into the rnn node\n",
        "    self.layer_weight = nn.Parameter(torch.randn(hidden_dim, hidden_dim))\n",
        "    self.hidden_weight = nn.Parameter(torch.randn(hidden_dim, hidden_dim))\n",
        "    self.bias = nn.Parameter(torch.zeros(hidden_dim))\n",
        "\n",
        "\n",
        "  #how it's connected to the next rnn node\n",
        "  def forward(self, input, prev_hidden):\n",
        "    hidden_node = torch.sigmoid(torch.dot(self.hidden_weight, prev_hidden)+\n",
        "                                     torch.dot(self.layer_weight, input)+\n",
        "                                     self.bias)\n",
        "    return hidden_node"
      ],
      "metadata": {
        "id": "odBJfqGfnoLZ"
      },
      "execution_count": null,
      "outputs": []
    },
    {
      "cell_type": "code",
      "source": [
        "class LSTM_Node(nn.Module):\n",
        "  def __init__(self, hidden_dim):\n",
        "    super(LSTM_Node, self).__init__()\n",
        "\n",
        "    #forget weight / prev layer forget weight / forget bias\n",
        "    self.W_f = nn.Parameter(torch.randn(hidden_dim, hidden_dim))\n",
        "    self.U_f = nn.Parameter(torch.randn(hidden_dim, hidden_dim))\n",
        "    self.b_f = nn.Parameter(torch.zeros(hidden_dim))\n",
        "\n",
        "    #input weight / prev layer input weight / input bias\n",
        "    self.W_i = nn.Parameter(torch.randn(hidden_dim, hidden_dim))\n",
        "    self.U_i = nn.Parameter(torch.randn(hidden_dim, hidden_dim))\n",
        "    self.b_i = nn.Parameter(torch.zeros(hidden_dim))\n",
        "\n",
        "    #output weight / prev layer output weight / output bis\n",
        "    self.W_o = nn.Parameter(torch.randn(hidden_dim, hidden_dim))\n",
        "    self.U_o = nn.Parameter(torch.randn(hidden_dim, hidden_dim))\n",
        "    self.b_o = nn.Parameter(torch.zeros(hidden_dim))\n",
        "\n",
        "    #cell weight / prev layer cell weight / cell bias\n",
        "    self.W_c = nn.Parameter(torch.randn(hidden_dim, hidden_dim))\n",
        "    self.U_c = nn.Parameter(torch.randn(hidden_dim, hidden_dim))\n",
        "    self.b_c = nn.Parameter(torch.zeros(hidden_dim))\n",
        "\n",
        "\n",
        "\n",
        "  def forward(self, input, prev_hidden, prev_cell):\n",
        "    #forget\n",
        "    f_t = torch.sigmoid(torch.dot(self.W_f, prev_hidden)+\n",
        "                                     torch.dot(self.U_f, input)+\n",
        "                                     self.b_f)\n",
        "    #input\n",
        "    i_t = torch.sigmoid(torch.dot(self.W_i, prev_hidden)+\n",
        "                                     torch.dot(self.U_i, input)+\n",
        "                                     self.b_i)\n",
        "    #output\n",
        "    o_t = torch.sigmoid(torch.dot(self.W_o, prev_hidden)+\n",
        "                                     torch.dot(self.U_o, input)+\n",
        "                                     self.b_o)\n",
        "\n",
        "    #new cell data\n",
        "    nc_t = torch.tanh(torch.dot(self.W_c, prev_hidden)+\n",
        "                                     torch.dot(self.U_c, input)+\n",
        "                                     self.b_c)\n",
        "\n",
        "    #cell\n",
        "    c_t = f_t*prev_cell + i_t*nc_t\n",
        "\n",
        "    #hidden\n",
        "    h_t = o_t*torch.tanh(c_t)\n",
        "\n",
        "    return h_t, c_t\n",
        "\n",
        ""
      ],
      "metadata": {
        "id": "xuBYxuXSsus3"
      },
      "execution_count": null,
      "outputs": []
    },
    {
      "cell_type": "code",
      "source": [
        "class EncoderNN(nn.Module):\n",
        "  def __init__(self, rnn_type, hidden_dim):\n",
        "    super(EncoderNN, self).__init__()\n",
        "\n",
        "    self.rnn_type = rnn_type\n",
        "    self.layers = layers\n",
        "\n",
        "\n",
        "  def forward(self):\n",
        "      # for layer in self.layers:\n",
        "      #lets start with\n",
        "\n",
        "\n",
        "\n",
        "\n"
      ],
      "metadata": {
        "id": "nep6uuJcc3SK"
      },
      "execution_count": null,
      "outputs": []
    },
    {
      "cell_type": "code",
      "source": [
        "class DecoderNN(nn.Module):\n",
        "  def __init__(self):\n",
        "    super(DecoderNN, self).__init__()\n",
        "\n",
        "  def forward(self):\n",
        "    pass\n"
      ],
      "metadata": {
        "id": "gKiXWgCvfAuD"
      },
      "execution_count": null,
      "outputs": []
    },
    {
      "cell_type": "code",
      "source": [
        "class Seq2Seq(nn.Module):\n",
        "  def __init__(self):\n",
        "    super(Seq2Seq, self).__init__()\n",
        "\n",
        "  def forward(self):\n",
        "    pass\n"
      ],
      "metadata": {
        "id": "RQS3dWtMfNjg"
      },
      "execution_count": null,
      "outputs": []
    }
  ]
}