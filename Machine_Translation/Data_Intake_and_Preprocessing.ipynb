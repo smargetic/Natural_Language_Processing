{
  "cells": [
    {
      "cell_type": "markdown",
      "metadata": {
        "id": "view-in-github",
        "colab_type": "text"
      },
      "source": [
        "<a href=\"https://colab.research.google.com/github/smargetic/Natural_Language_Processing/blob/main/Machine_Translation/Data_Intake_and_Preprocessing.ipynb\" target=\"_parent\"><img src=\"https://colab.research.google.com/assets/colab-badge.svg\" alt=\"Open In Colab\"/></a>"
      ]
    },
    {
      "cell_type": "code",
      "execution_count": null,
      "metadata": {
        "id": "6-_NHTm2kVcs"
      },
      "outputs": [],
      "source": [
        "#all translations have been obtained at tatoeba.org on July 26th, 2024"
      ]
    },
    {
      "cell_type": "code",
      "execution_count": null,
      "metadata": {
        "id": "bYnRsR2coA5g"
      },
      "outputs": [],
      "source": [
        "#runtime data storage\n",
        "import pandas as pd\n",
        "import numpy as np\n",
        "\n",
        "#show all rows and columns\n",
        "pd.set_option('display.max_columns', None)\n",
        "pd.set_option('display.max_rows', None)\n",
        "\n",
        "#visualize\n",
        "from IPython.display import display\n",
        "\n",
        "#pytorch\n",
        "import torch\n",
        "from torch.nn.utils.rnn import pad_sequence\n",
        "from torch.utils.data import DataLoader, TensorDataset\n",
        "from torch.nn.utils.rnn import pad_sequence\n",
        "\n",
        "#tensorflow\n",
        "import tensorflow as tf\n",
        "#from tensorflow.keras.preprocessing.sequence import pad_sequence as tf_pad_sequence\n",
        "\n",
        "#word/sentence processing\n",
        "import re\n",
        "\n",
        "#data storage\n",
        "import pickle\n",
        "import csv\n",
        "from google.colab import files\n",
        "import os\n",
        "import shutil\n",
        "import zipfile"
      ]
    },
    {
      "cell_type": "code",
      "execution_count": null,
      "metadata": {
        "id": "WxaLBZTTF8YP"
      },
      "outputs": [],
      "source": [
        "#import files\n",
        "def import_file(fileName, sep=None):\n",
        "  df = pd.read_csv(fileName, sep=sep, on_bad_lines='warn').T.reset_index().T.reset_index(drop=True)\n",
        "  return df\n",
        "\n",
        "#display file with name\n",
        "def get_file_and_disp(fileName, sep=None, stringName=\"\"):\n",
        "  print(\"\\n\" + stringName + \":\")\n",
        "\n",
        "  #if zip file, unzip\n",
        "  if(\".zip\" in fileName):\n",
        "    with zipfile.ZipFile(fileName, 'r') as zip_ref:\n",
        "        zip_ref.extractall(\"./\")\n",
        "\n",
        "    #rename for import\n",
        "    fileName = fileName[:-4]\n",
        "\n",
        "  df = import_file(fileName, sep=sep)\n",
        "  display(df.head())\n",
        "  return df\n",
        "\n",
        "# #english to italian translation\n",
        "# df_eng_it = get_file_and_disp(fileName=\"Sentence pairs in English-Italian - 2024-07-26.tsv\" ,sep='\\t', stringName=\"English to Italian\")\n"
      ]
    },
    {
      "cell_type": "code",
      "execution_count": null,
      "metadata": {
        "id": "1jzU5MkCEu1m"
      },
      "outputs": [],
      "source": [
        "#get sample of all data - to be used for experimentation\n",
        "def get_sample(df, frac=.2):\n",
        "  df_sample = df.sample(frac=frac, random_state=42)\n",
        "  df_sample = df_sample.reset_index(drop=True)\n",
        "\n",
        "  return df_sample\n",
        "\n",
        "#store sample\n",
        "def dump_sample(df, fileName):\n",
        "  df.to_csv(fileName, sep='\\t', index=False)\n",
        "\n",
        "# #get sample\n",
        "# df_eng_it = get_sample(df_eng_it, .01)\n",
        "# dump_sample(df_eng_it, \"sentence_pairs_eng_it_01.tsv\")"
      ]
    },
    {
      "cell_type": "code",
      "execution_count": null,
      "metadata": {
        "id": "UE0x1EJ3n4YS"
      },
      "outputs": [],
      "source": [
        "#double check that there are no null versions for these sentences\n",
        "def count_remove_null(df, index=1, name=\"\"):\n",
        "  #count nulls\n",
        "  nulls = df[index].isnull().sum()+ df[index].eq(\"\").sum()\n",
        "  print(\"Nulls in \" + name + \": {}\".format(nulls))\n",
        "\n",
        "  #remove nulls\n",
        "  if(nulls>0):\n",
        "    df.dropna(subset=[index], inplace=True)\n",
        "    df = df[df[index]!=\"\"]\n",
        "    df.reset_index(drop=True, inplace=True)\n",
        "\n",
        "  return df\n",
        "\n",
        "\n",
        "# df_eng_it = count_remove_null(df_eng_it, index=1, name=\"English\")\n",
        "# df_eng_it = count_remove_null(df_eng_it, index=3, name=\"Italian\")"
      ]
    },
    {
      "cell_type": "code",
      "execution_count": null,
      "metadata": {
        "id": "bCx3YAL5LXoE"
      },
      "outputs": [],
      "source": [
        "# #rename columns\n",
        "# df_eng_it.columns = ['eng_id', 'eng_sentence', 'it_id', 'it_sentence']\n",
        "# df_eng_it.head()"
      ]
    },
    {
      "cell_type": "code",
      "execution_count": null,
      "metadata": {
        "id": "xmC_HExwP6tm"
      },
      "outputs": [],
      "source": [
        "#seperates 1-1 translations\n",
        "def one_to_one_translations(df):\n",
        "  df_sing = df.copy().loc[~df.duplicated(subset='eng_sentence', keep=False), :]\n",
        "  df_sing = df_sing.loc[~df_sing.duplicated(subset='it_sentence',keep=False), :]\n",
        "  df_sing.reset_index(drop=True, inplace=True)\n",
        "\n",
        "  print('\\nOrig size: {}'.format(df.shape[0]))\n",
        "  print('Singular size: {}'.format(df_sing.shape[0]))\n",
        "\n",
        "  return df_sing\n",
        "\n",
        "# df_eng_it_sing = one_to_one_translations(df_eng_it)"
      ]
    },
    {
      "cell_type": "code",
      "execution_count": null,
      "metadata": {
        "id": "DH1yTaor7dxG"
      },
      "outputs": [],
      "source": [
        "##tokenize\n",
        "\n",
        "#get tokens\n",
        "def tokenize(sentence):\n",
        "  sent = re.findall(r'\\b\\w+\\b|[^\\w\\s]', sentence)\n",
        "  #add start of sentence and eos tokens\n",
        "  sent.insert(0, '<sos>')\n",
        "  sent.append('<eos>')\n",
        "\n",
        "  return sent\n",
        "\n",
        "#get vocabulary as dictionary - with values as indecies\n",
        "def get_vocab(df, col):\n",
        "  unique_tokens = list(np.unique(np.hstack(np.array(df[col]))))\n",
        "\n",
        "  #move start of sentence and end of sentence tokens to front\n",
        "  unique_tokens.insert(0, unique_tokens.pop(unique_tokens.index(\"<eos>\")))\n",
        "  unique_tokens.insert(0, unique_tokens.pop(unique_tokens.index(\"<sos>\")))\n",
        "\n",
        "  vocab = {k: v+2 for v, k in enumerate(unique_tokens)}\n",
        "\n",
        "  return vocab\n",
        "\n",
        "#encode for vocab\n",
        "def encode_vocab(tokens, vocab):\n",
        "    return [vocab[token] for token in tokens]\n",
        "\n",
        "#full tokenization - returns modified pandas df, and vocabs\n",
        "def tokenize_full(df, name=\"\"):\n",
        "  print('\\n'+name+\":\")\n",
        "\n",
        "  #split words into tokens\n",
        "  df['eng_tokens'] = df['eng_sentence'].apply(tokenize)\n",
        "  df['it_tokens'] = df['it_sentence'].apply(tokenize)\n",
        "\n",
        "  #get vocab\n",
        "  eng_vocab = get_vocab(df, 'eng_tokens')\n",
        "  it_vocab = get_vocab(df, 'it_tokens')\n",
        "\n",
        "  print(\"\\tEnglish vocabulary size: {}\".format(len(eng_vocab)))\n",
        "  print(\"\\tItalian vocabulary size: {}\".format(len(it_vocab)))\n",
        "\n",
        "  #encode for vocab\n",
        "  df['eng_tokens_enc'] = df['eng_tokens'].apply(lambda x: encode_vocab(x, eng_vocab))\n",
        "  df['it_tokens_enc'] = df['it_tokens'].apply(lambda x: encode_vocab(x, it_vocab))\n",
        "\n",
        "  return df, eng_vocab, it_vocab\n",
        "\n",
        "# #tokenize\n",
        "# df_eng_it, eng_vocab, it_vocab = tokenize_full(df_eng_it, name=\"English/Italian Translations\")\n",
        "# df_eng_it_sing, eng_vocab_sing, it_vocab_sing = tokenize_full(df_eng_it_sing, name=\"English/Italian One-One Translations\")\n"
      ]
    },
    {
      "cell_type": "code",
      "execution_count": null,
      "metadata": {
        "id": "G0jW4VlN3twd"
      },
      "outputs": [],
      "source": [
        "### pytorch ###\n",
        "\n",
        "#turn column of lists to column of pytorch tensors\n",
        "def turn_list_col_pytorch(df, col):\n",
        "  new_col = col + '_p'\n",
        "  df[new_col] = df[col].apply(lambda x: torch.tensor(x))\n",
        "  return df\n",
        "\n",
        "#add padding\n",
        "def pytorch_pad(df, col):\n",
        "  vals = pad_sequence(df[col], batch_first=True, padding_value=0)\n",
        "  df[col] = list(vals)\n",
        "\n",
        "  return df, vals\n",
        "\n",
        "#seperate data into batches\n",
        "def pytorch_batch(eng_tens, it_tens, batch_size=64):\n",
        "  dataset = TensorDataset(eng_tens, it_tens)\n",
        "  dataloader = DataLoader(dataset, batch_size=batch_size, shuffle=True)\n",
        "\n",
        "  return dataset, dataloader\n",
        "\n",
        "#all processing to turn list columns to pytorch objects\n",
        "def pytorch_preproc(df):\n",
        "  #turn column of lists to column of pytorch tensors\n",
        "  df = turn_list_col_pytorch(df, 'eng_tokens_enc')\n",
        "  df = turn_list_col_pytorch(df, 'it_tokens_enc')\n",
        "\n",
        "  #add padding\n",
        "  df, eng_tens = pytorch_pad(df, 'eng_tokens_enc_p')\n",
        "  df, it_tens = pytorch_pad(df, 'it_tokens_enc_p')\n",
        "\n",
        "  #get batches\n",
        "  dataset, dataloader = pytorch_batch(eng_tens, it_tens)\n",
        "\n",
        "  # return df, eng_tens, it_tens, dataloader\n",
        "  return df, dataloader\n",
        "\n",
        "\n",
        "# # df_eng_it, eng_tens, it_tens, dataloader = pytorch_preproc(df_eng_it)\n",
        "# df_eng_it, dataloader_p = pytorch_preproc(df_eng_it)\n",
        "# df_eng_it.head()"
      ]
    },
    {
      "cell_type": "code",
      "execution_count": null,
      "metadata": {
        "id": "DXqZmagQEbCd"
      },
      "outputs": [],
      "source": [
        "### tensorflow ###\n",
        "\n",
        "#add padding\n",
        "def tensorflow_pad(df, col):\n",
        "  new_col = col + '_t'\n",
        "  df[new_col] = list(tf.keras.preprocessing.sequence.pad_sequences(df[col].tolist(), padding='post'))\n",
        "  return df\n",
        "\n",
        "#turn list column to list of tensorflow objects\n",
        "def turn_list_col_tensorflow(df, col1, col2):\n",
        "  dataset = tf.data.Dataset.from_tensor_slices((df[col1].to_list(), df[col2].to_list()))\n",
        "  return dataset\n",
        "\n",
        "#padding and batch\n",
        "def tensorflow_pad_batch(dataset, batch_size=64):\n",
        "  padded_shapes = ([None], [None])\n",
        "  padding_values = (tf.constant(0, dtype=tf.int32), tf.constant(0, dtype=tf.int32))\n",
        "\n",
        "  dataset = dataset.padded_batch(batch_size, padded_shapes=padded_shapes, padding_values=padding_values)\n",
        "\n",
        "  return dataset\n",
        "\n",
        "#all processing to turn list columns to tensorflow objects\n",
        "def tensorflow_preproc(df):\n",
        "  #turn column of lists to column of tensorflow tensors\n",
        "  df = tensorflow_pad(df, 'eng_tokens_enc')\n",
        "  df = tensorflow_pad(df, 'it_tokens_enc')\n",
        "\n",
        "  #turn list column to list of tensorflow objects\n",
        "  dataset = turn_list_col_tensorflow(df, 'eng_tokens_enc_t', 'it_tokens_enc_t')\n",
        "\n",
        "  #add padding and batch\n",
        "  dataset = tensorflow_pad_batch(dataset)\n",
        "\n",
        "  return df, dataset\n",
        "\n",
        "# df_eng_it, dataloader_t = tensorflow_preproc(df_eng_it)\n",
        "# df_eng_it.head()"
      ]
    },
    {
      "cell_type": "code",
      "execution_count": null,
      "metadata": {
        "id": "2YSNkxx5N--9"
      },
      "outputs": [],
      "source": [
        "# # Example usage\n",
        "# for input_batch, target_batch in dataset:\n",
        "#     print(\"Input batch:\", input_batch)\n",
        "#     print(\"Target batch:\", target_batch)\n",
        "#     break"
      ]
    },
    {
      "cell_type": "code",
      "execution_count": null,
      "metadata": {
        "id": "i3BFzMCE4aY2"
      },
      "outputs": [],
      "source": [
        "#comprehensive function to get all data\n",
        "def data_preprocessing(df_eng_it, pytorchB=True, tensorflowB=True, store=True, sample=False, download=True, sing=True):\n",
        "  # #english to italian translation\n",
        "  # df_eng_it = get_file_and_disp(fileName=\"Sentence pairs in English-Italian - 2024-07-26.tsv\" ,sep='\\t', stringName=\"English to Italian\")\n",
        "\n",
        "\n",
        "  #remove nulls\n",
        "  df_eng_it = count_remove_null(df_eng_it, index=1, name=\"English\")\n",
        "  df_eng_it = count_remove_null(df_eng_it, index=3, name=\"Italian\")\n",
        "\n",
        "  #rename columns\n",
        "  df_eng_it.columns = ['eng_id', 'eng_sentence', 'it_id', 'it_sentence']\n",
        "\n",
        "  #get 1-1 translations\n",
        "  df_eng_it_sing = None\n",
        "  if(sing):\n",
        "    df_eng_it_sing = one_to_one_translations(df_eng_it)\n",
        "\n",
        "  #tokenize\n",
        "  df_eng_it, eng_vocab, it_vocab = tokenize_full(df_eng_it, name=\"English/Italian Translations\")\n",
        "  eng_vocab_sing, it_vocab_sing = None, None\n",
        "  if(sing):\n",
        "    df_eng_it_sing, eng_vocab_sing, it_vocab_sing = tokenize_full(df_eng_it_sing, name=\"English/Italian One-One Translations\")\n",
        "\n",
        "  #turn into pytorch\n",
        "  dataloader_p, dataloader_p_sing = None, None\n",
        "  if(pytorchB):\n",
        "    df_eng_it, dataloader_p = pytorch_preproc(df_eng_it)\n",
        "    if(sing):\n",
        "      df_eng_it_sing, dataloader_p_sing = pytorch_preproc(df_eng_it_sing)\n",
        "\n",
        "    print('\\nDone with Pytorch.')\n",
        "\n",
        "  #turn into tensorflow\n",
        "  dataloader_t, dataloader_t_sing = None, None\n",
        "  if(tensorflowB):\n",
        "    df_eng_it, dataloader_t = tensorflow_preproc(df_eng_it)\n",
        "    if(sing):\n",
        "      df_eng_it_sing, dataloader_t_sing = tensorflow_preproc(df_eng_it_sing)\n",
        "\n",
        "    print('\\nDone with TensorFlow.')\n",
        "\n",
        "\n",
        "  #for data storage\n",
        "  dataList = [df_eng_it, df_eng_it_sing, dataloader_p, dataloader_t, dataloader_p_sing, dataloader_t_sing,\n",
        "                eng_vocab, it_vocab, eng_vocab_sing, it_vocab_sing]\n",
        "\n",
        "  baseNames = ['English-Italian Dataframe ', 'English-Italian SING Dataframe ',\n",
        "                  'English-Italian Pytorch Dataloader ', 'English-Italian TensorFlow Dataloader ',\n",
        "                  'English-Italian Pytorch SING Dataloader ', 'English-Italian TensorFlow SING Dataloader ',\n",
        "                  'English Vocabulary ', 'Italian Vocabulary ',\n",
        "                  'English Vocabulary SING ', 'Italian Vocabulary SING ']\n",
        "\n",
        "\n",
        "  #stored seperately b/c of ram constraints\n",
        "  if(store):\n",
        "\n",
        "    #incase we're told that this is not a sample\n",
        "    sample = 100 if sample == False else int(sample*100)\n",
        "\n",
        "    #create folder if not existant\n",
        "    folderName = \"English-Italian Data - \" + str(sample) + \"%/\"\n",
        "    if not os.path.exists(folderName):\n",
        "        os.mkdir(folderName)\n",
        "\n",
        "    #add in sample and folder name\n",
        "    fileNames = [folderName + name + '- '+str(sample) +\"%\" for name in baseNames]\n",
        "\n",
        "    #add file type\n",
        "    fileNames = [name+\".csv\" if \"Dataframe\" in name\n",
        "                 else name+'.pth' if \"Pytorch\" in name\n",
        "                 else name+'.pkl' if \" Vocabulary\" in name\n",
        "                 else name for name in fileNames]\n",
        "\n",
        "    #add file type\n",
        "    # fileNames = [name+\".csv\" if \"Dataframe\" in name el name+'.pkl' for name in baseNames]\n",
        "\n",
        "    print('\\n---------------------------------------------------------------------------')\n",
        "    for i in range(0,len(fileNames)):\n",
        "      #store sing only if it was set\n",
        "      if((sing and (\"SING\" in fileNames[i])) or (\"SING\" not in fileNames[i])):\n",
        "        print('\\nSaving '+ fileNames[i] +\"...\")\n",
        "\n",
        "        #csv file\n",
        "        if(\".csv\" in fileNames[i]):\n",
        "          dataList[i].to_csv(fileNames[i], index=False)\n",
        "        #pytorch\n",
        "        elif ('.pth' in fileNames[i]):\n",
        "          if(pytorchB):\n",
        "            torch.save(dataList[i], fileNames[i])\n",
        "        #vocab\n",
        "        elif ('.pkl' in fileNames[i]):\n",
        "          with open(fileNames[i], 'wb') as f:\n",
        "            pickle.dump(dataList[i], f)\n",
        "        #tensorflow\n",
        "        else:\n",
        "          if(tensorflowB):\n",
        "            tf.data.experimental.save(dataList[i], fileNames[i])\n",
        "\n",
        "    #create zip of folder\n",
        "    shutil.make_archive(folderName[:-1], 'zip', folderName)\n",
        "\n",
        "    #download if set\n",
        "    if(download):\n",
        "      print('\\nDownloading ' + folderName[:-1] + \" Directory...\")\n",
        "      files.download(folderName[:-1]+'.zip')\n",
        "\n",
        "    print('Done.')\n",
        "\n",
        "\n",
        "  #dictionary of data values\n",
        "  data_dict = dict(zip(baseNames, dataList))\n",
        "\n",
        "\n",
        "  return data_dict\n"
      ]
    },
    {
      "cell_type": "code",
      "source": [
        "#zip and download - for inidividual tsv files\n",
        "def zip_download(fileName):\n",
        "  #create zip of folder\n",
        "  shutil.make_archive(fileName, 'zip', fileName)\n",
        "\n",
        "  #download file\n",
        "  files.download(fileName+\".zip\")"
      ],
      "metadata": {
        "id": "fmLxW00kHUv7"
      },
      "execution_count": null,
      "outputs": []
    },
    {
      "cell_type": "code",
      "execution_count": null,
      "metadata": {
        "colab": {
          "base_uri": "https://localhost:8080/",
          "height": 278
        },
        "id": "8wCLPO0pQ7yr",
        "outputId": "a193159f-d3b5-4766-95ec-d249b2e12ca0"
      },
      "outputs": [
        {
          "output_type": "stream",
          "name": "stdout",
          "text": [
            "\n",
            "English to Italian:\n"
          ]
        },
        {
          "output_type": "stream",
          "name": "stderr",
          "text": [
            "Skipping line 484577: expected 4 fields, saw 8\n",
            "\n"
          ]
        },
        {
          "output_type": "display_data",
          "data": {
            "text/plain": [
              "      0                                                 1          2  \\\n",
              "0  1276                              Let's try something.     565618   \n",
              "1  1277                            I have to go to sleep.     4369.0   \n",
              "2  1277                            I have to go to sleep.  2608468.0   \n",
              "3  1280  Today is June 18th and it is Muiriel's birthday!   383739.0   \n",
              "4  1280  Today is June 18th and it is Muiriel's birthday!   565612.0   \n",
              "\n",
              "                                                   3  \n",
              "0                                 Proviamo qualcosa!  \n",
              "1                             Devo andare a dormire.  \n",
              "2                          Io devo andare a dormire.  \n",
              "3  Oggi è il 18 giugno ed è il compleanno di Muir...  \n",
              "4  Oggi è il 18 di giugno ed è il compleanno di M...  "
            ],
            "text/html": [
              "\n",
              "  <div id=\"df-13b0913c-1fa4-4b84-a1b1-a234f53820e2\" class=\"colab-df-container\">\n",
              "    <div>\n",
              "<style scoped>\n",
              "    .dataframe tbody tr th:only-of-type {\n",
              "        vertical-align: middle;\n",
              "    }\n",
              "\n",
              "    .dataframe tbody tr th {\n",
              "        vertical-align: top;\n",
              "    }\n",
              "\n",
              "    .dataframe thead th {\n",
              "        text-align: right;\n",
              "    }\n",
              "</style>\n",
              "<table border=\"1\" class=\"dataframe\">\n",
              "  <thead>\n",
              "    <tr style=\"text-align: right;\">\n",
              "      <th></th>\n",
              "      <th>0</th>\n",
              "      <th>1</th>\n",
              "      <th>2</th>\n",
              "      <th>3</th>\n",
              "    </tr>\n",
              "  </thead>\n",
              "  <tbody>\n",
              "    <tr>\n",
              "      <th>0</th>\n",
              "      <td>1276</td>\n",
              "      <td>Let's try something.</td>\n",
              "      <td>565618</td>\n",
              "      <td>Proviamo qualcosa!</td>\n",
              "    </tr>\n",
              "    <tr>\n",
              "      <th>1</th>\n",
              "      <td>1277</td>\n",
              "      <td>I have to go to sleep.</td>\n",
              "      <td>4369.0</td>\n",
              "      <td>Devo andare a dormire.</td>\n",
              "    </tr>\n",
              "    <tr>\n",
              "      <th>2</th>\n",
              "      <td>1277</td>\n",
              "      <td>I have to go to sleep.</td>\n",
              "      <td>2608468.0</td>\n",
              "      <td>Io devo andare a dormire.</td>\n",
              "    </tr>\n",
              "    <tr>\n",
              "      <th>3</th>\n",
              "      <td>1280</td>\n",
              "      <td>Today is June 18th and it is Muiriel's birthday!</td>\n",
              "      <td>383739.0</td>\n",
              "      <td>Oggi è il 18 giugno ed è il compleanno di Muir...</td>\n",
              "    </tr>\n",
              "    <tr>\n",
              "      <th>4</th>\n",
              "      <td>1280</td>\n",
              "      <td>Today is June 18th and it is Muiriel's birthday!</td>\n",
              "      <td>565612.0</td>\n",
              "      <td>Oggi è il 18 di giugno ed è il compleanno di M...</td>\n",
              "    </tr>\n",
              "  </tbody>\n",
              "</table>\n",
              "</div>\n",
              "    <div class=\"colab-df-buttons\">\n",
              "\n",
              "  <div class=\"colab-df-container\">\n",
              "    <button class=\"colab-df-convert\" onclick=\"convertToInteractive('df-13b0913c-1fa4-4b84-a1b1-a234f53820e2')\"\n",
              "            title=\"Convert this dataframe to an interactive table.\"\n",
              "            style=\"display:none;\">\n",
              "\n",
              "  <svg xmlns=\"http://www.w3.org/2000/svg\" height=\"24px\" viewBox=\"0 -960 960 960\">\n",
              "    <path d=\"M120-120v-720h720v720H120Zm60-500h600v-160H180v160Zm220 220h160v-160H400v160Zm0 220h160v-160H400v160ZM180-400h160v-160H180v160Zm440 0h160v-160H620v160ZM180-180h160v-160H180v160Zm440 0h160v-160H620v160Z\"/>\n",
              "  </svg>\n",
              "    </button>\n",
              "\n",
              "  <style>\n",
              "    .colab-df-container {\n",
              "      display:flex;\n",
              "      gap: 12px;\n",
              "    }\n",
              "\n",
              "    .colab-df-convert {\n",
              "      background-color: #E8F0FE;\n",
              "      border: none;\n",
              "      border-radius: 50%;\n",
              "      cursor: pointer;\n",
              "      display: none;\n",
              "      fill: #1967D2;\n",
              "      height: 32px;\n",
              "      padding: 0 0 0 0;\n",
              "      width: 32px;\n",
              "    }\n",
              "\n",
              "    .colab-df-convert:hover {\n",
              "      background-color: #E2EBFA;\n",
              "      box-shadow: 0px 1px 2px rgba(60, 64, 67, 0.3), 0px 1px 3px 1px rgba(60, 64, 67, 0.15);\n",
              "      fill: #174EA6;\n",
              "    }\n",
              "\n",
              "    .colab-df-buttons div {\n",
              "      margin-bottom: 4px;\n",
              "    }\n",
              "\n",
              "    [theme=dark] .colab-df-convert {\n",
              "      background-color: #3B4455;\n",
              "      fill: #D2E3FC;\n",
              "    }\n",
              "\n",
              "    [theme=dark] .colab-df-convert:hover {\n",
              "      background-color: #434B5C;\n",
              "      box-shadow: 0px 1px 3px 1px rgba(0, 0, 0, 0.15);\n",
              "      filter: drop-shadow(0px 1px 2px rgba(0, 0, 0, 0.3));\n",
              "      fill: #FFFFFF;\n",
              "    }\n",
              "  </style>\n",
              "\n",
              "    <script>\n",
              "      const buttonEl =\n",
              "        document.querySelector('#df-13b0913c-1fa4-4b84-a1b1-a234f53820e2 button.colab-df-convert');\n",
              "      buttonEl.style.display =\n",
              "        google.colab.kernel.accessAllowed ? 'block' : 'none';\n",
              "\n",
              "      async function convertToInteractive(key) {\n",
              "        const element = document.querySelector('#df-13b0913c-1fa4-4b84-a1b1-a234f53820e2');\n",
              "        const dataTable =\n",
              "          await google.colab.kernel.invokeFunction('convertToInteractive',\n",
              "                                                    [key], {});\n",
              "        if (!dataTable) return;\n",
              "\n",
              "        const docLinkHtml = 'Like what you see? Visit the ' +\n",
              "          '<a target=\"_blank\" href=https://colab.research.google.com/notebooks/data_table.ipynb>data table notebook</a>'\n",
              "          + ' to learn more about interactive tables.';\n",
              "        element.innerHTML = '';\n",
              "        dataTable['output_type'] = 'display_data';\n",
              "        await google.colab.output.renderOutput(dataTable, element);\n",
              "        const docLink = document.createElement('div');\n",
              "        docLink.innerHTML = docLinkHtml;\n",
              "        element.appendChild(docLink);\n",
              "      }\n",
              "    </script>\n",
              "  </div>\n",
              "\n",
              "\n",
              "<div id=\"df-7df06349-7975-4458-b747-d1857f93cb16\">\n",
              "  <button class=\"colab-df-quickchart\" onclick=\"quickchart('df-7df06349-7975-4458-b747-d1857f93cb16')\"\n",
              "            title=\"Suggest charts\"\n",
              "            style=\"display:none;\">\n",
              "\n",
              "<svg xmlns=\"http://www.w3.org/2000/svg\" height=\"24px\"viewBox=\"0 0 24 24\"\n",
              "     width=\"24px\">\n",
              "    <g>\n",
              "        <path d=\"M19 3H5c-1.1 0-2 .9-2 2v14c0 1.1.9 2 2 2h14c1.1 0 2-.9 2-2V5c0-1.1-.9-2-2-2zM9 17H7v-7h2v7zm4 0h-2V7h2v10zm4 0h-2v-4h2v4z\"/>\n",
              "    </g>\n",
              "</svg>\n",
              "  </button>\n",
              "\n",
              "<style>\n",
              "  .colab-df-quickchart {\n",
              "      --bg-color: #E8F0FE;\n",
              "      --fill-color: #1967D2;\n",
              "      --hover-bg-color: #E2EBFA;\n",
              "      --hover-fill-color: #174EA6;\n",
              "      --disabled-fill-color: #AAA;\n",
              "      --disabled-bg-color: #DDD;\n",
              "  }\n",
              "\n",
              "  [theme=dark] .colab-df-quickchart {\n",
              "      --bg-color: #3B4455;\n",
              "      --fill-color: #D2E3FC;\n",
              "      --hover-bg-color: #434B5C;\n",
              "      --hover-fill-color: #FFFFFF;\n",
              "      --disabled-bg-color: #3B4455;\n",
              "      --disabled-fill-color: #666;\n",
              "  }\n",
              "\n",
              "  .colab-df-quickchart {\n",
              "    background-color: var(--bg-color);\n",
              "    border: none;\n",
              "    border-radius: 50%;\n",
              "    cursor: pointer;\n",
              "    display: none;\n",
              "    fill: var(--fill-color);\n",
              "    height: 32px;\n",
              "    padding: 0;\n",
              "    width: 32px;\n",
              "  }\n",
              "\n",
              "  .colab-df-quickchart:hover {\n",
              "    background-color: var(--hover-bg-color);\n",
              "    box-shadow: 0 1px 2px rgba(60, 64, 67, 0.3), 0 1px 3px 1px rgba(60, 64, 67, 0.15);\n",
              "    fill: var(--button-hover-fill-color);\n",
              "  }\n",
              "\n",
              "  .colab-df-quickchart-complete:disabled,\n",
              "  .colab-df-quickchart-complete:disabled:hover {\n",
              "    background-color: var(--disabled-bg-color);\n",
              "    fill: var(--disabled-fill-color);\n",
              "    box-shadow: none;\n",
              "  }\n",
              "\n",
              "  .colab-df-spinner {\n",
              "    border: 2px solid var(--fill-color);\n",
              "    border-color: transparent;\n",
              "    border-bottom-color: var(--fill-color);\n",
              "    animation:\n",
              "      spin 1s steps(1) infinite;\n",
              "  }\n",
              "\n",
              "  @keyframes spin {\n",
              "    0% {\n",
              "      border-color: transparent;\n",
              "      border-bottom-color: var(--fill-color);\n",
              "      border-left-color: var(--fill-color);\n",
              "    }\n",
              "    20% {\n",
              "      border-color: transparent;\n",
              "      border-left-color: var(--fill-color);\n",
              "      border-top-color: var(--fill-color);\n",
              "    }\n",
              "    30% {\n",
              "      border-color: transparent;\n",
              "      border-left-color: var(--fill-color);\n",
              "      border-top-color: var(--fill-color);\n",
              "      border-right-color: var(--fill-color);\n",
              "    }\n",
              "    40% {\n",
              "      border-color: transparent;\n",
              "      border-right-color: var(--fill-color);\n",
              "      border-top-color: var(--fill-color);\n",
              "    }\n",
              "    60% {\n",
              "      border-color: transparent;\n",
              "      border-right-color: var(--fill-color);\n",
              "    }\n",
              "    80% {\n",
              "      border-color: transparent;\n",
              "      border-right-color: var(--fill-color);\n",
              "      border-bottom-color: var(--fill-color);\n",
              "    }\n",
              "    90% {\n",
              "      border-color: transparent;\n",
              "      border-bottom-color: var(--fill-color);\n",
              "    }\n",
              "  }\n",
              "</style>\n",
              "\n",
              "  <script>\n",
              "    async function quickchart(key) {\n",
              "      const quickchartButtonEl =\n",
              "        document.querySelector('#' + key + ' button');\n",
              "      quickchartButtonEl.disabled = true;  // To prevent multiple clicks.\n",
              "      quickchartButtonEl.classList.add('colab-df-spinner');\n",
              "      try {\n",
              "        const charts = await google.colab.kernel.invokeFunction(\n",
              "            'suggestCharts', [key], {});\n",
              "      } catch (error) {\n",
              "        console.error('Error during call to suggestCharts:', error);\n",
              "      }\n",
              "      quickchartButtonEl.classList.remove('colab-df-spinner');\n",
              "      quickchartButtonEl.classList.add('colab-df-quickchart-complete');\n",
              "    }\n",
              "    (() => {\n",
              "      let quickchartButtonEl =\n",
              "        document.querySelector('#df-7df06349-7975-4458-b747-d1857f93cb16 button');\n",
              "      quickchartButtonEl.style.display =\n",
              "        google.colab.kernel.accessAllowed ? 'block' : 'none';\n",
              "    })();\n",
              "  </script>\n",
              "</div>\n",
              "\n",
              "    </div>\n",
              "  </div>\n"
            ],
            "application/vnd.google.colaboratory.intrinsic+json": {
              "type": "dataframe",
              "summary": "{\n  \"name\": \"zip_download(\\\"Sentence pairs English-Italian 5% Sample\",\n  \"rows\": 5,\n  \"fields\": [\n    {\n      \"column\": 0,\n      \"properties\": {\n        \"dtype\": \"string\",\n        \"num_unique_values\": 3,\n        \"samples\": [\n          \"1276\",\n          1277,\n          1280\n        ],\n        \"semantic_type\": \"\",\n        \"description\": \"\"\n      }\n    },\n    {\n      \"column\": 1,\n      \"properties\": {\n        \"dtype\": \"string\",\n        \"num_unique_values\": 3,\n        \"samples\": [\n          \"Let's try something.\",\n          \"I have to go to sleep.\",\n          \"Today is June 18th and it is Muiriel's birthday!\"\n        ],\n        \"semantic_type\": \"\",\n        \"description\": \"\"\n      }\n    },\n    {\n      \"column\": 2,\n      \"properties\": {\n        \"dtype\": \"string\",\n        \"num_unique_values\": 5,\n        \"samples\": [\n          4369.0,\n          565612.0,\n          2608468.0\n        ],\n        \"semantic_type\": \"\",\n        \"description\": \"\"\n      }\n    },\n    {\n      \"column\": 3,\n      \"properties\": {\n        \"dtype\": \"string\",\n        \"num_unique_values\": 5,\n        \"samples\": [\n          \"Devo andare a dormire.\",\n          \"Oggi \\u00e8 il 18 di giugno ed \\u00e8 il compleanno di Muiriel!\",\n          \"Io devo andare a dormire.\"\n        ],\n        \"semantic_type\": \"\",\n        \"description\": \"\"\n      }\n    }\n  ]\n}"
            }
          },
          "metadata": {}
        },
        {
          "output_type": "display_data",
          "data": {
            "text/plain": [
              "<IPython.core.display.Javascript object>"
            ],
            "application/javascript": [
              "\n",
              "    async function download(id, filename, size) {\n",
              "      if (!google.colab.kernel.accessAllowed) {\n",
              "        return;\n",
              "      }\n",
              "      const div = document.createElement('div');\n",
              "      const label = document.createElement('label');\n",
              "      label.textContent = `Downloading \"${filename}\": `;\n",
              "      div.appendChild(label);\n",
              "      const progress = document.createElement('progress');\n",
              "      progress.max = size;\n",
              "      div.appendChild(progress);\n",
              "      document.body.appendChild(div);\n",
              "\n",
              "      const buffers = [];\n",
              "      let downloaded = 0;\n",
              "\n",
              "      const channel = await google.colab.kernel.comms.open(id);\n",
              "      // Send a message to notify the kernel that we're ready.\n",
              "      channel.send({})\n",
              "\n",
              "      for await (const message of channel.messages) {\n",
              "        // Send a message to notify the kernel that we're ready.\n",
              "        channel.send({})\n",
              "        if (message.buffers) {\n",
              "          for (const buffer of message.buffers) {\n",
              "            buffers.push(buffer);\n",
              "            downloaded += buffer.byteLength;\n",
              "            progress.value = downloaded;\n",
              "          }\n",
              "        }\n",
              "      }\n",
              "      const blob = new Blob(buffers, {type: 'application/binary'});\n",
              "      const a = document.createElement('a');\n",
              "      a.href = window.URL.createObjectURL(blob);\n",
              "      a.download = filename;\n",
              "      div.appendChild(a);\n",
              "      a.click();\n",
              "      div.remove();\n",
              "    }\n",
              "  "
            ]
          },
          "metadata": {}
        },
        {
          "output_type": "display_data",
          "data": {
            "text/plain": [
              "<IPython.core.display.Javascript object>"
            ],
            "application/javascript": [
              "download(\"download_d6810af8-4962-4cc6-bb1a-cdc104ce7948\", \"Sentence pairs English-Italian 20% Sample.tsv.zip\", 22)"
            ]
          },
          "metadata": {}
        },
        {
          "output_type": "display_data",
          "data": {
            "text/plain": [
              "<IPython.core.display.Javascript object>"
            ],
            "application/javascript": [
              "\n",
              "    async function download(id, filename, size) {\n",
              "      if (!google.colab.kernel.accessAllowed) {\n",
              "        return;\n",
              "      }\n",
              "      const div = document.createElement('div');\n",
              "      const label = document.createElement('label');\n",
              "      label.textContent = `Downloading \"${filename}\": `;\n",
              "      div.appendChild(label);\n",
              "      const progress = document.createElement('progress');\n",
              "      progress.max = size;\n",
              "      div.appendChild(progress);\n",
              "      document.body.appendChild(div);\n",
              "\n",
              "      const buffers = [];\n",
              "      let downloaded = 0;\n",
              "\n",
              "      const channel = await google.colab.kernel.comms.open(id);\n",
              "      // Send a message to notify the kernel that we're ready.\n",
              "      channel.send({})\n",
              "\n",
              "      for await (const message of channel.messages) {\n",
              "        // Send a message to notify the kernel that we're ready.\n",
              "        channel.send({})\n",
              "        if (message.buffers) {\n",
              "          for (const buffer of message.buffers) {\n",
              "            buffers.push(buffer);\n",
              "            downloaded += buffer.byteLength;\n",
              "            progress.value = downloaded;\n",
              "          }\n",
              "        }\n",
              "      }\n",
              "      const blob = new Blob(buffers, {type: 'application/binary'});\n",
              "      const a = document.createElement('a');\n",
              "      a.href = window.URL.createObjectURL(blob);\n",
              "      a.download = filename;\n",
              "      div.appendChild(a);\n",
              "      a.click();\n",
              "      div.remove();\n",
              "    }\n",
              "  "
            ]
          },
          "metadata": {}
        },
        {
          "output_type": "display_data",
          "data": {
            "text/plain": [
              "<IPython.core.display.Javascript object>"
            ],
            "application/javascript": [
              "download(\"download_94f31fe2-2a21-4734-b871-11225c7a2f21\", \"Sentence pairs English-Italian 10% Sample.tsv.zip\", 22)"
            ]
          },
          "metadata": {}
        },
        {
          "output_type": "display_data",
          "data": {
            "text/plain": [
              "<IPython.core.display.Javascript object>"
            ],
            "application/javascript": [
              "\n",
              "    async function download(id, filename, size) {\n",
              "      if (!google.colab.kernel.accessAllowed) {\n",
              "        return;\n",
              "      }\n",
              "      const div = document.createElement('div');\n",
              "      const label = document.createElement('label');\n",
              "      label.textContent = `Downloading \"${filename}\": `;\n",
              "      div.appendChild(label);\n",
              "      const progress = document.createElement('progress');\n",
              "      progress.max = size;\n",
              "      div.appendChild(progress);\n",
              "      document.body.appendChild(div);\n",
              "\n",
              "      const buffers = [];\n",
              "      let downloaded = 0;\n",
              "\n",
              "      const channel = await google.colab.kernel.comms.open(id);\n",
              "      // Send a message to notify the kernel that we're ready.\n",
              "      channel.send({})\n",
              "\n",
              "      for await (const message of channel.messages) {\n",
              "        // Send a message to notify the kernel that we're ready.\n",
              "        channel.send({})\n",
              "        if (message.buffers) {\n",
              "          for (const buffer of message.buffers) {\n",
              "            buffers.push(buffer);\n",
              "            downloaded += buffer.byteLength;\n",
              "            progress.value = downloaded;\n",
              "          }\n",
              "        }\n",
              "      }\n",
              "      const blob = new Blob(buffers, {type: 'application/binary'});\n",
              "      const a = document.createElement('a');\n",
              "      a.href = window.URL.createObjectURL(blob);\n",
              "      a.download = filename;\n",
              "      div.appendChild(a);\n",
              "      a.click();\n",
              "      div.remove();\n",
              "    }\n",
              "  "
            ]
          },
          "metadata": {}
        },
        {
          "output_type": "display_data",
          "data": {
            "text/plain": [
              "<IPython.core.display.Javascript object>"
            ],
            "application/javascript": [
              "download(\"download_b0be1911-4b6c-459c-af1d-a9961bfedf11\", \"Sentence pairs English-Italian 5% Sample.tsv.zip\", 22)"
            ]
          },
          "metadata": {}
        }
      ],
      "source": [
        "###get files###\n",
        "\n",
        "#english to italian translation\n",
        "df_eng_it = get_file_and_disp(fileName=\"Sentence pairs in English-Italian - 2024-07-26.tsv.zip\" ,sep='\\t', stringName=\"English to Italian\")\n",
        "\n",
        "#get and store samples\n",
        "df_eng_it_samp_20 = get_sample(df_eng_it.copy(), .2)\n",
        "df_eng_it_samp_10 = get_sample(df_eng_it.copy(), .1)\n",
        "df_eng_it_samp_05 = get_sample(df_eng_it.copy(), .05)\n",
        "\n",
        "#store samples\n",
        "dump_sample(df_eng_it_samp_20, \"Sentence pairs English-Italian 20% Sample.tsv\")\n",
        "dump_sample(df_eng_it_samp_10, \"Sentence pairs English-Italian 10% Sample.tsv\")\n",
        "dump_sample(df_eng_it_samp_05, \"Sentence pairs English-Italian 5% Sample.tsv\")\n",
        "\n",
        "#download samples\n",
        "zip_download(\"Sentence pairs English-Italian 20% Sample.tsv\")\n",
        "zip_download(\"Sentence pairs English-Italian 10% Sample.tsv\")\n",
        "zip_download(\"Sentence pairs English-Italian 5% Sample.tsv\")\n"
      ]
    },
    {
      "cell_type": "code",
      "execution_count": null,
      "metadata": {
        "colab": {
          "base_uri": "https://localhost:8080/",
          "height": 841
        },
        "id": "JpsT5u1Ars5t",
        "outputId": "eae48778-8163-484f-af77-9801c545cfdf"
      },
      "outputs": [
        {
          "output_type": "stream",
          "name": "stdout",
          "text": [
            "Nulls in English: 0\n",
            "Nulls in Italian: 0\n",
            "\n",
            "Orig size: 31396\n",
            "Singular size: 27483\n",
            "\n",
            "English/Italian Translations:\n",
            "\tEnglish vocabulary size: 9317\n",
            "\tItalian vocabulary size: 14634\n",
            "\n",
            "English/Italian One-One Translations:\n",
            "\tEnglish vocabulary size: 9139\n",
            "\tItalian vocabulary size: 14013\n",
            "\n",
            "Done with Pytorch.\n",
            "\n",
            "Done with TensorFlow.\n",
            "\n",
            "---------------------------------------------------------------------------\n",
            "\n",
            "Saving English-Italian Data - 5%/English-Italian Dataframe - 5%.csv...\n",
            "\n",
            "Saving English-Italian Data - 5%/English-Italian SING Dataframe - 5%.csv...\n",
            "\n",
            "Saving English-Italian Data - 5%/English-Italian Pytorch Dataloader - 5%.pth...\n"
          ]
        },
        {
          "output_type": "stream",
          "name": "stderr",
          "text": [
            "WARNING:tensorflow:From <ipython-input-12-8fda30822a82>:98: save (from tensorflow.python.data.experimental.ops.io) is deprecated and will be removed in a future version.\n",
            "Instructions for updating:\n",
            "Use `tf.data.Dataset.save(...)` instead.\n"
          ]
        },
        {
          "output_type": "stream",
          "name": "stdout",
          "text": [
            "\n",
            "Saving English-Italian Data - 5%/English-Italian TensorFlow Dataloader - 5%...\n",
            "\n",
            "Saving English-Italian Data - 5%/English-Italian Pytorch SING Dataloader - 5%.pth...\n",
            "\n",
            "Saving English-Italian Data - 5%/English-Italian TensorFlow SING Dataloader - 5%...\n",
            "\n",
            "Saving English-Italian Data - 5%/English Vocabulary - 5%.pkl...\n",
            "\n",
            "Saving English-Italian Data - 5%/Italian Vocabulary - 5%.pkl...\n",
            "\n",
            "Saving English-Italian Data - 5%/English Vocabulary SING - 5%.pkl...\n",
            "\n",
            "Saving English-Italian Data - 5%/Italian Vocabulary SING - 5%.pkl...\n",
            "\n",
            "Downloading English-Italian Data - 5% Directory...\n"
          ]
        },
        {
          "output_type": "display_data",
          "data": {
            "text/plain": [
              "<IPython.core.display.Javascript object>"
            ],
            "application/javascript": [
              "\n",
              "    async function download(id, filename, size) {\n",
              "      if (!google.colab.kernel.accessAllowed) {\n",
              "        return;\n",
              "      }\n",
              "      const div = document.createElement('div');\n",
              "      const label = document.createElement('label');\n",
              "      label.textContent = `Downloading \"${filename}\": `;\n",
              "      div.appendChild(label);\n",
              "      const progress = document.createElement('progress');\n",
              "      progress.max = size;\n",
              "      div.appendChild(progress);\n",
              "      document.body.appendChild(div);\n",
              "\n",
              "      const buffers = [];\n",
              "      let downloaded = 0;\n",
              "\n",
              "      const channel = await google.colab.kernel.comms.open(id);\n",
              "      // Send a message to notify the kernel that we're ready.\n",
              "      channel.send({})\n",
              "\n",
              "      for await (const message of channel.messages) {\n",
              "        // Send a message to notify the kernel that we're ready.\n",
              "        channel.send({})\n",
              "        if (message.buffers) {\n",
              "          for (const buffer of message.buffers) {\n",
              "            buffers.push(buffer);\n",
              "            downloaded += buffer.byteLength;\n",
              "            progress.value = downloaded;\n",
              "          }\n",
              "        }\n",
              "      }\n",
              "      const blob = new Blob(buffers, {type: 'application/binary'});\n",
              "      const a = document.createElement('a');\n",
              "      a.href = window.URL.createObjectURL(blob);\n",
              "      a.download = filename;\n",
              "      div.appendChild(a);\n",
              "      a.click();\n",
              "      div.remove();\n",
              "    }\n",
              "  "
            ]
          },
          "metadata": {}
        },
        {
          "output_type": "display_data",
          "data": {
            "text/plain": [
              "<IPython.core.display.Javascript object>"
            ],
            "application/javascript": [
              "download(\"download_b705529b-eb4d-41a7-a36c-5db9d71cfef1\", \"English-Italian Data - 5%.zip\", 20491412)"
            ]
          },
          "metadata": {}
        },
        {
          "output_type": "stream",
          "name": "stdout",
          "text": [
            "Done.\n"
          ]
        }
      ],
      "source": [
        "##5%\n",
        "\n",
        "#df_eng_it = get_file_and_disp(fileName=\"Sentence pairs English-Italian 5% Sample.tsv\" ,sep='\\t', stringName=\"English to Italian 5%\")\n",
        "data_dict_05 = data_preprocessing(df_eng_it_samp_05.copy(), pytorchB=True, tensorflowB=True, store=True, sample=.05, download=True, sing=True) #smaller sample for tensorflow"
      ]
    },
    {
      "cell_type": "code",
      "execution_count": null,
      "metadata": {
        "id": "4JEXg8CGegbB",
        "colab": {
          "base_uri": "https://localhost:8080/",
          "height": 767
        },
        "outputId": "ea302488-0a4d-471b-87f5-a0eaece05d69"
      },
      "outputs": [
        {
          "output_type": "stream",
          "name": "stdout",
          "text": [
            "Nulls in English: 0\n",
            "Nulls in Italian: 0\n",
            "\n",
            "Orig size: 62791\n",
            "Singular size: 48687\n",
            "\n",
            "English/Italian Translations:\n",
            "\tEnglish vocabulary size: 12666\n",
            "\tItalian vocabulary size: 20495\n",
            "\n",
            "English/Italian One-One Translations:\n",
            "\tEnglish vocabulary size: 12224\n",
            "\tItalian vocabulary size: 18962\n",
            "\n",
            "Done with Pytorch.\n",
            "\n",
            "Done with TensorFlow.\n",
            "\n",
            "---------------------------------------------------------------------------\n",
            "\n",
            "Saving English-Italian Data - 10%/English-Italian Dataframe - 10%.csv...\n",
            "\n",
            "Saving English-Italian Data - 10%/English-Italian SING Dataframe - 10%.csv...\n",
            "\n",
            "Saving English-Italian Data - 10%/English-Italian Pytorch Dataloader - 10%.pth...\n",
            "\n",
            "Saving English-Italian Data - 10%/English-Italian TensorFlow Dataloader - 10%...\n",
            "\n",
            "Saving English-Italian Data - 10%/English-Italian Pytorch SING Dataloader - 10%.pth...\n",
            "\n",
            "Saving English-Italian Data - 10%/English-Italian TensorFlow SING Dataloader - 10%...\n",
            "\n",
            "Saving English-Italian Data - 10%/English Vocabulary - 10%.pkl...\n",
            "\n",
            "Saving English-Italian Data - 10%/Italian Vocabulary - 10%.pkl...\n",
            "\n",
            "Saving English-Italian Data - 10%/English Vocabulary SING - 10%.pkl...\n",
            "\n",
            "Saving English-Italian Data - 10%/Italian Vocabulary SING - 10%.pkl...\n",
            "\n",
            "Downloading English-Italian Data - 10% Directory...\n"
          ]
        },
        {
          "output_type": "display_data",
          "data": {
            "text/plain": [
              "<IPython.core.display.Javascript object>"
            ],
            "application/javascript": [
              "\n",
              "    async function download(id, filename, size) {\n",
              "      if (!google.colab.kernel.accessAllowed) {\n",
              "        return;\n",
              "      }\n",
              "      const div = document.createElement('div');\n",
              "      const label = document.createElement('label');\n",
              "      label.textContent = `Downloading \"${filename}\": `;\n",
              "      div.appendChild(label);\n",
              "      const progress = document.createElement('progress');\n",
              "      progress.max = size;\n",
              "      div.appendChild(progress);\n",
              "      document.body.appendChild(div);\n",
              "\n",
              "      const buffers = [];\n",
              "      let downloaded = 0;\n",
              "\n",
              "      const channel = await google.colab.kernel.comms.open(id);\n",
              "      // Send a message to notify the kernel that we're ready.\n",
              "      channel.send({})\n",
              "\n",
              "      for await (const message of channel.messages) {\n",
              "        // Send a message to notify the kernel that we're ready.\n",
              "        channel.send({})\n",
              "        if (message.buffers) {\n",
              "          for (const buffer of message.buffers) {\n",
              "            buffers.push(buffer);\n",
              "            downloaded += buffer.byteLength;\n",
              "            progress.value = downloaded;\n",
              "          }\n",
              "        }\n",
              "      }\n",
              "      const blob = new Blob(buffers, {type: 'application/binary'});\n",
              "      const a = document.createElement('a');\n",
              "      a.href = window.URL.createObjectURL(blob);\n",
              "      a.download = filename;\n",
              "      div.appendChild(a);\n",
              "      a.click();\n",
              "      div.remove();\n",
              "    }\n",
              "  "
            ]
          },
          "metadata": {}
        },
        {
          "output_type": "display_data",
          "data": {
            "text/plain": [
              "<IPython.core.display.Javascript object>"
            ],
            "application/javascript": [
              "download(\"download_9d636ee8-2ac6-491d-b16f-3b837b13ce1e\", \"English-Italian Data - 10%.zip\", 39736703)"
            ]
          },
          "metadata": {}
        },
        {
          "output_type": "stream",
          "name": "stdout",
          "text": [
            "Done.\n"
          ]
        }
      ],
      "source": [
        "##10%\n",
        "\n",
        "#df_eng_it = get_file_and_disp(fileName=\"Sentence pairs English-Italian 10% Sample.tsv\" ,sep='\\t', stringName=\"English to Italian 10%\")\n",
        "data_dict_10 = data_preprocessing(df_eng_it_samp_10.copy(), pytorchB=True, tensorflowB=True, store=True, sample=.1, download=True, sing=True) #smaller sample for tensorflow"
      ]
    },
    {
      "cell_type": "code",
      "execution_count": null,
      "metadata": {
        "id": "bzxuOQSIep5_",
        "colab": {
          "base_uri": "https://localhost:8080/",
          "height": 841
        },
        "outputId": "7edac6ea-0b77-46dd-af70-ff8ed6c52ff2"
      },
      "outputs": [
        {
          "output_type": "stream",
          "name": "stdout",
          "text": [
            "Nulls in English: 0\n",
            "Nulls in Italian: 0\n",
            "\n",
            "Orig size: 125582\n",
            "Singular size: 79001\n",
            "\n",
            "English/Italian Translations:\n",
            "\tEnglish vocabulary size: 16651\n",
            "\tItalian vocabulary size: 27840\n",
            "\n",
            "English/Italian One-One Translations:\n",
            "\tEnglish vocabulary size: 15733\n",
            "\tItalian vocabulary size: 24398\n",
            "\n",
            "Done with Pytorch.\n",
            "\n",
            "Done with TensorFlow.\n",
            "\n",
            "---------------------------------------------------------------------------\n",
            "\n",
            "Saving English-Italian Data - 20%/English-Italian Dataframe - 20%.csv...\n",
            "\n",
            "Saving English-Italian Data - 20%/English-Italian SING Dataframe - 20%.csv...\n",
            "\n",
            "Saving English-Italian Data - 20%/English-Italian Pytorch Dataloader - 20%.pth...\n"
          ]
        },
        {
          "output_type": "stream",
          "name": "stderr",
          "text": [
            "WARNING:tensorflow:From <ipython-input-12-8fda30822a82>:98: save (from tensorflow.python.data.experimental.ops.io) is deprecated and will be removed in a future version.\n",
            "Instructions for updating:\n",
            "Use `tf.data.Dataset.save(...)` instead.\n"
          ]
        },
        {
          "output_type": "stream",
          "name": "stdout",
          "text": [
            "\n",
            "Saving English-Italian Data - 20%/English-Italian TensorFlow Dataloader - 20%...\n",
            "\n",
            "Saving English-Italian Data - 20%/English-Italian Pytorch SING Dataloader - 20%.pth...\n",
            "\n",
            "Saving English-Italian Data - 20%/English-Italian TensorFlow SING Dataloader - 20%...\n",
            "\n",
            "Saving English-Italian Data - 20%/English Vocabulary - 20%.pkl...\n",
            "\n",
            "Saving English-Italian Data - 20%/Italian Vocabulary - 20%.pkl...\n",
            "\n",
            "Saving English-Italian Data - 20%/English Vocabulary SING - 20%.pkl...\n",
            "\n",
            "Saving English-Italian Data - 20%/Italian Vocabulary SING - 20%.pkl...\n",
            "\n",
            "Downloading English-Italian Data - 20% Directory...\n"
          ]
        },
        {
          "output_type": "display_data",
          "data": {
            "text/plain": [
              "<IPython.core.display.Javascript object>"
            ],
            "application/javascript": [
              "\n",
              "    async function download(id, filename, size) {\n",
              "      if (!google.colab.kernel.accessAllowed) {\n",
              "        return;\n",
              "      }\n",
              "      const div = document.createElement('div');\n",
              "      const label = document.createElement('label');\n",
              "      label.textContent = `Downloading \"${filename}\": `;\n",
              "      div.appendChild(label);\n",
              "      const progress = document.createElement('progress');\n",
              "      progress.max = size;\n",
              "      div.appendChild(progress);\n",
              "      document.body.appendChild(div);\n",
              "\n",
              "      const buffers = [];\n",
              "      let downloaded = 0;\n",
              "\n",
              "      const channel = await google.colab.kernel.comms.open(id);\n",
              "      // Send a message to notify the kernel that we're ready.\n",
              "      channel.send({})\n",
              "\n",
              "      for await (const message of channel.messages) {\n",
              "        // Send a message to notify the kernel that we're ready.\n",
              "        channel.send({})\n",
              "        if (message.buffers) {\n",
              "          for (const buffer of message.buffers) {\n",
              "            buffers.push(buffer);\n",
              "            downloaded += buffer.byteLength;\n",
              "            progress.value = downloaded;\n",
              "          }\n",
              "        }\n",
              "      }\n",
              "      const blob = new Blob(buffers, {type: 'application/binary'});\n",
              "      const a = document.createElement('a');\n",
              "      a.href = window.URL.createObjectURL(blob);\n",
              "      a.download = filename;\n",
              "      div.appendChild(a);\n",
              "      a.click();\n",
              "      div.remove();\n",
              "    }\n",
              "  "
            ]
          },
          "metadata": {}
        },
        {
          "output_type": "display_data",
          "data": {
            "text/plain": [
              "<IPython.core.display.Javascript object>"
            ],
            "application/javascript": [
              "download(\"download_fd53a5b0-7ea2-4afd-8d7e-bbcdc4ba79df\", \"English-Italian Data - 20%.zip\", 72859816)"
            ]
          },
          "metadata": {}
        },
        {
          "output_type": "stream",
          "name": "stdout",
          "text": [
            "Done.\n"
          ]
        }
      ],
      "source": [
        "##20%\n",
        "\n",
        "#df_eng_it = get_file_and_disp(fileName=\"Sentence pairs English-Italian 20% Sample.tsv\" ,sep='\\t', stringName=\"English to Italian 10%\")\n",
        "data_dict_20 = data_preprocessing(df_eng_it_samp_20.copy(), pytorchB=True, tensorflowB=True, store=True, sample=.2, download=True, sing=True) #lets see if this works"
      ]
    },
    {
      "cell_type": "code",
      "execution_count": null,
      "metadata": {
        "id": "-nbaQAf6eeDX",
        "colab": {
          "base_uri": "https://localhost:8080/",
          "height": 731
        },
        "outputId": "840c48c3-a05f-41b3-efc9-f4eb61e962b3"
      },
      "outputs": [
        {
          "output_type": "stream",
          "name": "stdout",
          "text": [
            "Nulls in English: 0\n",
            "Nulls in Italian: 1\n",
            "\n",
            "Orig size: 627909\n",
            "Singular size: 116948\n",
            "\n",
            "English/Italian Translations:\n",
            "\tEnglish vocabulary size: 27905\n",
            "\tItalian vocabulary size: 50244\n",
            "\n",
            "English/Italian One-One Translations:\n",
            "\tEnglish vocabulary size: 23217\n",
            "\tItalian vocabulary size: 33032\n",
            "\n",
            "Done with Pytorch.\n",
            "\n",
            "---------------------------------------------------------------------------\n",
            "\n",
            "Saving English-Italian Data - 100%/English-Italian Dataframe - 100%.csv...\n",
            "\n",
            "Saving English-Italian Data - 100%/English-Italian SING Dataframe - 100%.csv...\n",
            "\n",
            "Saving English-Italian Data - 100%/English-Italian Pytorch Dataloader - 100%.pth...\n",
            "\n",
            "Saving English-Italian Data - 100%/English-Italian TensorFlow Dataloader - 100%...\n",
            "\n",
            "Saving English-Italian Data - 100%/English-Italian Pytorch SING Dataloader - 100%.pth...\n",
            "\n",
            "Saving English-Italian Data - 100%/English-Italian TensorFlow SING Dataloader - 100%...\n",
            "\n",
            "Saving English-Italian Data - 100%/English Vocabulary - 100%.pkl...\n",
            "\n",
            "Saving English-Italian Data - 100%/Italian Vocabulary - 100%.pkl...\n",
            "\n",
            "Saving English-Italian Data - 100%/English Vocabulary SING - 100%.pkl...\n",
            "\n",
            "Saving English-Italian Data - 100%/Italian Vocabulary SING - 100%.pkl...\n",
            "\n",
            "Downloading English-Italian Data - 100% Directory...\n"
          ]
        },
        {
          "output_type": "display_data",
          "data": {
            "text/plain": [
              "<IPython.core.display.Javascript object>"
            ],
            "application/javascript": [
              "\n",
              "    async function download(id, filename, size) {\n",
              "      if (!google.colab.kernel.accessAllowed) {\n",
              "        return;\n",
              "      }\n",
              "      const div = document.createElement('div');\n",
              "      const label = document.createElement('label');\n",
              "      label.textContent = `Downloading \"${filename}\": `;\n",
              "      div.appendChild(label);\n",
              "      const progress = document.createElement('progress');\n",
              "      progress.max = size;\n",
              "      div.appendChild(progress);\n",
              "      document.body.appendChild(div);\n",
              "\n",
              "      const buffers = [];\n",
              "      let downloaded = 0;\n",
              "\n",
              "      const channel = await google.colab.kernel.comms.open(id);\n",
              "      // Send a message to notify the kernel that we're ready.\n",
              "      channel.send({})\n",
              "\n",
              "      for await (const message of channel.messages) {\n",
              "        // Send a message to notify the kernel that we're ready.\n",
              "        channel.send({})\n",
              "        if (message.buffers) {\n",
              "          for (const buffer of message.buffers) {\n",
              "            buffers.push(buffer);\n",
              "            downloaded += buffer.byteLength;\n",
              "            progress.value = downloaded;\n",
              "          }\n",
              "        }\n",
              "      }\n",
              "      const blob = new Blob(buffers, {type: 'application/binary'});\n",
              "      const a = document.createElement('a');\n",
              "      a.href = window.URL.createObjectURL(blob);\n",
              "      a.download = filename;\n",
              "      div.appendChild(a);\n",
              "      a.click();\n",
              "      div.remove();\n",
              "    }\n",
              "  "
            ]
          },
          "metadata": {}
        },
        {
          "output_type": "display_data",
          "data": {
            "text/plain": [
              "<IPython.core.display.Javascript object>"
            ],
            "application/javascript": [
              "download(\"download_f5b45b96-a5d4-4c82-afdf-d83e37828c8b\", \"English-Italian Data - 100%.zip\", 115452108)"
            ]
          },
          "metadata": {}
        },
        {
          "output_type": "stream",
          "name": "stdout",
          "text": [
            "Done.\n"
          ]
        }
      ],
      "source": [
        "#full without tensorflow b/c of ram\n",
        "data_dict_full = data_preprocessing(df_eng_it.copy(), pytorchB=True, tensorflowB=False, store=True, sample=False, download=True, sing=True) #full without tensorflow b/c of ram"
      ]
    },
    {
      "cell_type": "code",
      "source": [
        "#full with tensorflow only\n",
        "data_dict_full = data_preprocessing(df_eng_it.copy(), pytorchB=False, tensorflowB=True, store=True, sample=False, download=True, sing=True)"
      ],
      "metadata": {
        "colab": {
          "base_uri": "https://localhost:8080/",
          "height": 805
        },
        "id": "Iu5tEv5CUIOU",
        "outputId": "4443368c-d044-42d7-fc01-81effcc69f37"
      },
      "execution_count": null,
      "outputs": [
        {
          "output_type": "stream",
          "name": "stdout",
          "text": [
            "Nulls in English: 0\n",
            "Nulls in Italian: 1\n",
            "\n",
            "Orig size: 627909\n",
            "Singular size: 116948\n",
            "\n",
            "English/Italian Translations:\n",
            "\tEnglish vocabulary size: 27905\n",
            "\tItalian vocabulary size: 50244\n",
            "\n",
            "English/Italian One-One Translations:\n",
            "\tEnglish vocabulary size: 23217\n",
            "\tItalian vocabulary size: 33032\n",
            "\n",
            "Done with TensorFlow.\n",
            "\n",
            "---------------------------------------------------------------------------\n",
            "\n",
            "Saving English-Italian Data - 100%/English-Italian Dataframe - 100%.csv...\n",
            "\n",
            "Saving English-Italian Data - 100%/English-Italian SING Dataframe - 100%.csv...\n"
          ]
        },
        {
          "output_type": "stream",
          "name": "stderr",
          "text": [
            "WARNING:tensorflow:From <ipython-input-12-8fda30822a82>:98: save (from tensorflow.python.data.experimental.ops.io) is deprecated and will be removed in a future version.\n",
            "Instructions for updating:\n",
            "Use `tf.data.Dataset.save(...)` instead.\n"
          ]
        },
        {
          "output_type": "stream",
          "name": "stdout",
          "text": [
            "\n",
            "Saving English-Italian Data - 100%/English-Italian Pytorch Dataloader - 100%.pth...\n",
            "\n",
            "Saving English-Italian Data - 100%/English-Italian TensorFlow Dataloader - 100%...\n",
            "\n",
            "Saving English-Italian Data - 100%/English-Italian Pytorch SING Dataloader - 100%.pth...\n",
            "\n",
            "Saving English-Italian Data - 100%/English-Italian TensorFlow SING Dataloader - 100%...\n",
            "\n",
            "Saving English-Italian Data - 100%/English Vocabulary - 100%.pkl...\n",
            "\n",
            "Saving English-Italian Data - 100%/Italian Vocabulary - 100%.pkl...\n",
            "\n",
            "Saving English-Italian Data - 100%/English Vocabulary SING - 100%.pkl...\n",
            "\n",
            "Saving English-Italian Data - 100%/Italian Vocabulary SING - 100%.pkl...\n",
            "\n",
            "Downloading English-Italian Data - 100% Directory...\n"
          ]
        },
        {
          "output_type": "display_data",
          "data": {
            "text/plain": [
              "<IPython.core.display.Javascript object>"
            ],
            "application/javascript": [
              "\n",
              "    async function download(id, filename, size) {\n",
              "      if (!google.colab.kernel.accessAllowed) {\n",
              "        return;\n",
              "      }\n",
              "      const div = document.createElement('div');\n",
              "      const label = document.createElement('label');\n",
              "      label.textContent = `Downloading \"${filename}\": `;\n",
              "      div.appendChild(label);\n",
              "      const progress = document.createElement('progress');\n",
              "      progress.max = size;\n",
              "      div.appendChild(progress);\n",
              "      document.body.appendChild(div);\n",
              "\n",
              "      const buffers = [];\n",
              "      let downloaded = 0;\n",
              "\n",
              "      const channel = await google.colab.kernel.comms.open(id);\n",
              "      // Send a message to notify the kernel that we're ready.\n",
              "      channel.send({})\n",
              "\n",
              "      for await (const message of channel.messages) {\n",
              "        // Send a message to notify the kernel that we're ready.\n",
              "        channel.send({})\n",
              "        if (message.buffers) {\n",
              "          for (const buffer of message.buffers) {\n",
              "            buffers.push(buffer);\n",
              "            downloaded += buffer.byteLength;\n",
              "            progress.value = downloaded;\n",
              "          }\n",
              "        }\n",
              "      }\n",
              "      const blob = new Blob(buffers, {type: 'application/binary'});\n",
              "      const a = document.createElement('a');\n",
              "      a.href = window.URL.createObjectURL(blob);\n",
              "      a.download = filename;\n",
              "      div.appendChild(a);\n",
              "      a.click();\n",
              "      div.remove();\n",
              "    }\n",
              "  "
            ]
          },
          "metadata": {}
        },
        {
          "output_type": "display_data",
          "data": {
            "text/plain": [
              "<IPython.core.display.Javascript object>"
            ],
            "application/javascript": [
              "download(\"download_b0c82846-3560-497b-ba59-a903fad648c4\", \"English-Italian Data - 100%.zip\", 113857877)"
            ]
          },
          "metadata": {}
        },
        {
          "output_type": "stream",
          "name": "stdout",
          "text": [
            "Done.\n"
          ]
        }
      ]
    },
    {
      "cell_type": "code",
      "source": [
        "#full -pytorch and tensorflow\n",
        "data_dict_full = data_preprocessing(df_eng_it.copy(), pytorchB=True, tensorflowB=True, store=True, sample=False, download=True, sing=True)"
      ],
      "metadata": {
        "colab": {
          "base_uri": "https://localhost:8080/",
          "height": 858
        },
        "id": "5VV-j6I3tKsO",
        "outputId": "0adde25f-8214-47a2-c142-c8f8cb176833"
      },
      "execution_count": null,
      "outputs": [
        {
          "output_type": "stream",
          "name": "stdout",
          "text": [
            "Nulls in English: 0\n",
            "Nulls in Italian: 1\n",
            "\n",
            "Orig size: 627909\n",
            "Singular size: 116948\n",
            "\n",
            "English/Italian Translations:\n",
            "\tEnglish vocabulary size: 27905\n",
            "\tItalian vocabulary size: 50244\n",
            "\n",
            "English/Italian One-One Translations:\n",
            "\tEnglish vocabulary size: 23217\n",
            "\tItalian vocabulary size: 33032\n",
            "\n",
            "Done with Pytorch.\n",
            "\n",
            "Done with TensorFlow.\n",
            "\n",
            "---------------------------------------------------------------------------\n",
            "\n",
            "Saving English-Italian Data - 100%/English-Italian Dataframe - 100%.csv...\n",
            "\n",
            "Saving English-Italian Data - 100%/English-Italian SING Dataframe - 100%.csv...\n",
            "\n",
            "Saving English-Italian Data - 100%/English-Italian Pytorch Dataloader - 100%.pth...\n"
          ]
        },
        {
          "output_type": "stream",
          "name": "stderr",
          "text": [
            "WARNING:tensorflow:From <ipython-input-12-8fda30822a82>:98: save (from tensorflow.python.data.experimental.ops.io) is deprecated and will be removed in a future version.\n",
            "Instructions for updating:\n",
            "Use `tf.data.Dataset.save(...)` instead.\n"
          ]
        },
        {
          "output_type": "stream",
          "name": "stdout",
          "text": [
            "\n",
            "Saving English-Italian Data - 100%/English-Italian TensorFlow Dataloader - 100%...\n",
            "\n",
            "Saving English-Italian Data - 100%/English-Italian Pytorch SING Dataloader - 100%.pth...\n",
            "\n",
            "Saving English-Italian Data - 100%/English-Italian TensorFlow SING Dataloader - 100%...\n",
            "\n",
            "Saving English-Italian Data - 100%/English Vocabulary - 100%.pkl...\n",
            "\n",
            "Saving English-Italian Data - 100%/Italian Vocabulary - 100%.pkl...\n",
            "\n",
            "Saving English-Italian Data - 100%/English Vocabulary SING - 100%.pkl...\n",
            "\n",
            "Saving English-Italian Data - 100%/Italian Vocabulary SING - 100%.pkl...\n",
            "\n",
            "Downloading English-Italian Data - 100% Directory...\n"
          ]
        },
        {
          "output_type": "display_data",
          "data": {
            "text/plain": [
              "<IPython.core.display.Javascript object>"
            ],
            "application/javascript": [
              "\n",
              "    async function download(id, filename, size) {\n",
              "      if (!google.colab.kernel.accessAllowed) {\n",
              "        return;\n",
              "      }\n",
              "      const div = document.createElement('div');\n",
              "      const label = document.createElement('label');\n",
              "      label.textContent = `Downloading \"${filename}\": `;\n",
              "      div.appendChild(label);\n",
              "      const progress = document.createElement('progress');\n",
              "      progress.max = size;\n",
              "      div.appendChild(progress);\n",
              "      document.body.appendChild(div);\n",
              "\n",
              "      const buffers = [];\n",
              "      let downloaded = 0;\n",
              "\n",
              "      const channel = await google.colab.kernel.comms.open(id);\n",
              "      // Send a message to notify the kernel that we're ready.\n",
              "      channel.send({})\n",
              "\n",
              "      for await (const message of channel.messages) {\n",
              "        // Send a message to notify the kernel that we're ready.\n",
              "        channel.send({})\n",
              "        if (message.buffers) {\n",
              "          for (const buffer of message.buffers) {\n",
              "            buffers.push(buffer);\n",
              "            downloaded += buffer.byteLength;\n",
              "            progress.value = downloaded;\n",
              "          }\n",
              "        }\n",
              "      }\n",
              "      const blob = new Blob(buffers, {type: 'application/binary'});\n",
              "      const a = document.createElement('a');\n",
              "      a.href = window.URL.createObjectURL(blob);\n",
              "      a.download = filename;\n",
              "      div.appendChild(a);\n",
              "      a.click();\n",
              "      div.remove();\n",
              "    }\n",
              "  "
            ]
          },
          "metadata": {}
        },
        {
          "output_type": "display_data",
          "data": {
            "text/plain": [
              "<IPython.core.display.Javascript object>"
            ],
            "application/javascript": [
              "download(\"download_b408404b-b9dc-4efd-ac00-c48ce265f48d\", \"English-Italian Data - 100%.zip\", 172627566)"
            ]
          },
          "metadata": {}
        },
        {
          "output_type": "stream",
          "name": "stdout",
          "text": [
            "Done.\n"
          ]
        }
      ]
    }
  ],
  "metadata": {
    "colab": {
      "provenance": [],
      "authorship_tag": "ABX9TyPtZv4PGf6m1r+ILbpcYZcs",
      "include_colab_link": true
    },
    "kernelspec": {
      "display_name": "Python 3",
      "name": "python3"
    },
    "language_info": {
      "name": "python"
    }
  },
  "nbformat": 4,
  "nbformat_minor": 0
}